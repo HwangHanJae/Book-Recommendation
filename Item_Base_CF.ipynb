{
  "nbformat": 4,
  "nbformat_minor": 0,
  "metadata": {
    "colab": {
      "provenance": [],
      "toc_visible": true,
      "mount_file_id": "1AA4k6dx6-fH_Lh-8ov_L5lW3AH4EgmJ7",
      "authorship_tag": "ABX9TyMPrmGkYm/vqlie4XXSRBBF",
      "include_colab_link": true
    },
    "kernelspec": {
      "name": "python3",
      "display_name": "Python 3"
    },
    "language_info": {
      "name": "python"
    }
  },
  "cells": [
    {
      "cell_type": "markdown",
      "metadata": {
        "id": "view-in-github",
        "colab_type": "text"
      },
      "source": [
        "<a href=\"https://colab.research.google.com/github/HwangHanJae/Book-Recommendation/blob/main/Item_Base_CF.ipynb\" target=\"_parent\"><img src=\"https://colab.research.google.com/assets/colab-badge.svg\" alt=\"Open In Colab\"/></a>"
      ]
    },
    {
      "cell_type": "markdown",
      "source": [
        "# 데이터로드"
      ],
      "metadata": {
        "id": "zfK5r5pCyR8V"
      }
    },
    {
      "cell_type": "code",
      "execution_count": 89,
      "metadata": {
        "colab": {
          "base_uri": "https://localhost:8080/"
        },
        "id": "O3lXcsveQ-XN",
        "outputId": "0799a766-e9ee-4e58-be91-1e73c58e7d6f"
      },
      "outputs": [
        {
          "output_type": "stream",
          "name": "stderr",
          "text": [
            "/usr/local/lib/python3.8/dist-packages/IPython/core/interactiveshell.py:3326: DtypeWarning: Columns (3) have mixed types.Specify dtype option on import or set low_memory=False.\n",
            "  exec(code_obj, self.user_global_ns, self.user_ns)\n"
          ]
        }
      ],
      "source": [
        "import pandas as pd\n",
        "import numpy as np\n",
        "\n",
        "rating_user_path = '/content/drive/MyDrive/Colab Notebooks/Recommendation/Book Recommendation/dataset/Rating_Users.csv'\n",
        "rating_book_path = '/content/drive/MyDrive/Colab Notebooks/Recommendation/Book Recommendation/dataset/Rating_Books.csv'\n",
        "new_ratings_path = '/content/drive/MyDrive/Colab Notebooks/Recommendation/Book Recommendation/dataset/New_Ratings.csv'\n",
        "\n",
        "rating_users = pd.read_csv(rating_user_path)\n",
        "rating_books = pd.read_csv(rating_book_path)\n",
        "new_ratings = pd.read_csv(new_ratings_path)"
      ]
    },
    {
      "cell_type": "markdown",
      "source": [
        "# Model"
      ],
      "metadata": {
        "id": "_zbetM5kqU8x"
      }
    },
    {
      "cell_type": "code",
      "source": [
        "class Model():\n",
        "  def __init__(self, rating, users, items, num_sim_item=20):\n",
        "    self.R = rating\n",
        "    self.users = set(users)\n",
        "    self.items = set(items)\n",
        "    self._get_mean()\n",
        "    self.S = self._get_S()\n",
        "    self.num_sim_item = num_sim_item\n",
        "    \n",
        "\n",
        "  def _get_mean(self):\n",
        "    self.mean = {}\n",
        "    for u in self.users:\n",
        "      self.mean[u] = sum(self.R[u].values()) / len(self.R[u].keys())\n",
        "    \n",
        "  def _get_S(self):\n",
        "    S = {}\n",
        "    for u in self.R.keys():\n",
        "      for i in self.R[u].keys():\n",
        "        if u not in S:\n",
        "          S[u] = {}\n",
        "        S[u][i] = self.R[u][i] - self.mean[u]\n",
        "    return S\n",
        "  def _adjusted_cosine(self, i, j):\n",
        "    if i == j:\n",
        "      return 1\n",
        "\n",
        "    # 아이템 i, j에 모두 평가한 유저의 인덱스\n",
        "    numerator = 0\n",
        "    denominator = 0\n",
        "    sum_sui_2 = 0\n",
        "    sum_suj_2 = 0\n",
        "    for u in self.users:\n",
        "      if self.S[u].get(i) and self.S[u].get(j):\n",
        "    # 조정된 코사인 유사도 계산\n",
        "        sui = self.S[u][i]\n",
        "        suj = self.S[u][j]\n",
        "        numerator += sui * suj\n",
        "\n",
        "        sum_sui_2 += sui ** 2\n",
        "        sum_suj_2 += suj ** 2\n",
        "\n",
        "    sqrt_sum_sui = sum_sui_2 ** 0.5\n",
        "    sart_sum_suj = sum_suj_2 ** 0.5\n",
        "\n",
        "    denominator = sqrt_sum_sui * sart_sum_suj\n",
        "\n",
        "    if denominator == 0:\n",
        "      return 0\n",
        "    else:\n",
        "      return numerator / denominator\n",
        "\n",
        "  def _get_peergroup(self, i):\n",
        "    peergroup =[]\n",
        "    for j in self.items - {i}:\n",
        "      adjusted_cosine = self._adjusted_cosine(i, j)\n",
        "      if adjusted_cosine > 0:\n",
        "        peergroup.append((j, self._adjusted_cosine(i, j)))\n",
        "\n",
        "    peergroup = sorted(peergroup, key=lambda x : x[1], reverse=True)[:self.num_sim_item]\n",
        "\n",
        "    return peergroup\n",
        "      \n",
        "  def recommend(self, user_id, num_recom_items = 10):\n",
        "    recommend_items = []\n",
        "    for i in self.items - self.R[user_id].keys():\n",
        "      peergroup = self._get_peergroup(i)\n",
        "      numerator = 0\n",
        "      denominator = 0\n",
        "      for j, adjustedcosine in peergroup:\n",
        "        numerator += (adjustedcosine * self.R[user_id][j])\n",
        "        denominator += abs(adjustedcosine)\n",
        "      if denominator == 0:\n",
        "        ruj = self.mean[u]\n",
        "      else:\n",
        "        ruj = numerator / denominator\n",
        "      recommend_items.append((i,ruj))\n",
        "    recommend_items.sort(key=lambda x: x[1], reverse=True)\n",
        "\n",
        "    return [item for item, rui in recommend_items[:num_recom_items]]\n"
      ],
      "metadata": {
        "id": "B3DF_6s1VAlp"
      },
      "execution_count": 166,
      "outputs": []
    },
    {
      "cell_type": "markdown",
      "source": [
        "# Sample 데이터"
      ],
      "metadata": {
        "id": "MeBqdOZDqTwH"
      }
    },
    {
      "cell_type": "code",
      "source": [
        "array = [[7,6,7,4,5,4],\n",
        "         [6,7,None,4,3,4],\n",
        "         [None,3,3,1,1,None],\n",
        "         [1,2,2,3,3,4],\n",
        "         [1,None,1,2,3,3]]\n",
        "sample_df = pd.DataFrame(array, index=[1,2,3,4,5], columns=[1,2,3,4,5,6])\n",
        "sample_df"
      ],
      "metadata": {
        "colab": {
          "base_uri": "https://localhost:8080/",
          "height": 206
        },
        "id": "Hc6vTAM6Res_",
        "outputId": "60d06949-e51c-4988-c496-309a1360319e"
      },
      "execution_count": 167,
      "outputs": [
        {
          "output_type": "execute_result",
          "data": {
            "text/plain": [
              "     1    2    3  4  5    6\n",
              "1  7.0  6.0  7.0  4  5  4.0\n",
              "2  6.0  7.0  NaN  4  3  4.0\n",
              "3  NaN  3.0  3.0  1  1  NaN\n",
              "4  1.0  2.0  2.0  3  3  4.0\n",
              "5  1.0  NaN  1.0  2  3  3.0"
            ],
            "text/html": [
              "\n",
              "  <div id=\"df-2c952cdf-ec0b-4742-94c5-90310feb05a2\">\n",
              "    <div class=\"colab-df-container\">\n",
              "      <div>\n",
              "<style scoped>\n",
              "    .dataframe tbody tr th:only-of-type {\n",
              "        vertical-align: middle;\n",
              "    }\n",
              "\n",
              "    .dataframe tbody tr th {\n",
              "        vertical-align: top;\n",
              "    }\n",
              "\n",
              "    .dataframe thead th {\n",
              "        text-align: right;\n",
              "    }\n",
              "</style>\n",
              "<table border=\"1\" class=\"dataframe\">\n",
              "  <thead>\n",
              "    <tr style=\"text-align: right;\">\n",
              "      <th></th>\n",
              "      <th>1</th>\n",
              "      <th>2</th>\n",
              "      <th>3</th>\n",
              "      <th>4</th>\n",
              "      <th>5</th>\n",
              "      <th>6</th>\n",
              "    </tr>\n",
              "  </thead>\n",
              "  <tbody>\n",
              "    <tr>\n",
              "      <th>1</th>\n",
              "      <td>7.0</td>\n",
              "      <td>6.0</td>\n",
              "      <td>7.0</td>\n",
              "      <td>4</td>\n",
              "      <td>5</td>\n",
              "      <td>4.0</td>\n",
              "    </tr>\n",
              "    <tr>\n",
              "      <th>2</th>\n",
              "      <td>6.0</td>\n",
              "      <td>7.0</td>\n",
              "      <td>NaN</td>\n",
              "      <td>4</td>\n",
              "      <td>3</td>\n",
              "      <td>4.0</td>\n",
              "    </tr>\n",
              "    <tr>\n",
              "      <th>3</th>\n",
              "      <td>NaN</td>\n",
              "      <td>3.0</td>\n",
              "      <td>3.0</td>\n",
              "      <td>1</td>\n",
              "      <td>1</td>\n",
              "      <td>NaN</td>\n",
              "    </tr>\n",
              "    <tr>\n",
              "      <th>4</th>\n",
              "      <td>1.0</td>\n",
              "      <td>2.0</td>\n",
              "      <td>2.0</td>\n",
              "      <td>3</td>\n",
              "      <td>3</td>\n",
              "      <td>4.0</td>\n",
              "    </tr>\n",
              "    <tr>\n",
              "      <th>5</th>\n",
              "      <td>1.0</td>\n",
              "      <td>NaN</td>\n",
              "      <td>1.0</td>\n",
              "      <td>2</td>\n",
              "      <td>3</td>\n",
              "      <td>3.0</td>\n",
              "    </tr>\n",
              "  </tbody>\n",
              "</table>\n",
              "</div>\n",
              "      <button class=\"colab-df-convert\" onclick=\"convertToInteractive('df-2c952cdf-ec0b-4742-94c5-90310feb05a2')\"\n",
              "              title=\"Convert this dataframe to an interactive table.\"\n",
              "              style=\"display:none;\">\n",
              "        \n",
              "  <svg xmlns=\"http://www.w3.org/2000/svg\" height=\"24px\"viewBox=\"0 0 24 24\"\n",
              "       width=\"24px\">\n",
              "    <path d=\"M0 0h24v24H0V0z\" fill=\"none\"/>\n",
              "    <path d=\"M18.56 5.44l.94 2.06.94-2.06 2.06-.94-2.06-.94-.94-2.06-.94 2.06-2.06.94zm-11 1L8.5 8.5l.94-2.06 2.06-.94-2.06-.94L8.5 2.5l-.94 2.06-2.06.94zm10 10l.94 2.06.94-2.06 2.06-.94-2.06-.94-.94-2.06-.94 2.06-2.06.94z\"/><path d=\"M17.41 7.96l-1.37-1.37c-.4-.4-.92-.59-1.43-.59-.52 0-1.04.2-1.43.59L10.3 9.45l-7.72 7.72c-.78.78-.78 2.05 0 2.83L4 21.41c.39.39.9.59 1.41.59.51 0 1.02-.2 1.41-.59l7.78-7.78 2.81-2.81c.8-.78.8-2.07 0-2.86zM5.41 20L4 18.59l7.72-7.72 1.47 1.35L5.41 20z\"/>\n",
              "  </svg>\n",
              "      </button>\n",
              "      \n",
              "  <style>\n",
              "    .colab-df-container {\n",
              "      display:flex;\n",
              "      flex-wrap:wrap;\n",
              "      gap: 12px;\n",
              "    }\n",
              "\n",
              "    .colab-df-convert {\n",
              "      background-color: #E8F0FE;\n",
              "      border: none;\n",
              "      border-radius: 50%;\n",
              "      cursor: pointer;\n",
              "      display: none;\n",
              "      fill: #1967D2;\n",
              "      height: 32px;\n",
              "      padding: 0 0 0 0;\n",
              "      width: 32px;\n",
              "    }\n",
              "\n",
              "    .colab-df-convert:hover {\n",
              "      background-color: #E2EBFA;\n",
              "      box-shadow: 0px 1px 2px rgba(60, 64, 67, 0.3), 0px 1px 3px 1px rgba(60, 64, 67, 0.15);\n",
              "      fill: #174EA6;\n",
              "    }\n",
              "\n",
              "    [theme=dark] .colab-df-convert {\n",
              "      background-color: #3B4455;\n",
              "      fill: #D2E3FC;\n",
              "    }\n",
              "\n",
              "    [theme=dark] .colab-df-convert:hover {\n",
              "      background-color: #434B5C;\n",
              "      box-shadow: 0px 1px 3px 1px rgba(0, 0, 0, 0.15);\n",
              "      filter: drop-shadow(0px 1px 2px rgba(0, 0, 0, 0.3));\n",
              "      fill: #FFFFFF;\n",
              "    }\n",
              "  </style>\n",
              "\n",
              "      <script>\n",
              "        const buttonEl =\n",
              "          document.querySelector('#df-2c952cdf-ec0b-4742-94c5-90310feb05a2 button.colab-df-convert');\n",
              "        buttonEl.style.display =\n",
              "          google.colab.kernel.accessAllowed ? 'block' : 'none';\n",
              "\n",
              "        async function convertToInteractive(key) {\n",
              "          const element = document.querySelector('#df-2c952cdf-ec0b-4742-94c5-90310feb05a2');\n",
              "          const dataTable =\n",
              "            await google.colab.kernel.invokeFunction('convertToInteractive',\n",
              "                                                     [key], {});\n",
              "          if (!dataTable) return;\n",
              "\n",
              "          const docLinkHtml = 'Like what you see? Visit the ' +\n",
              "            '<a target=\"_blank\" href=https://colab.research.google.com/notebooks/data_table.ipynb>data table notebook</a>'\n",
              "            + ' to learn more about interactive tables.';\n",
              "          element.innerHTML = '';\n",
              "          dataTable['output_type'] = 'display_data';\n",
              "          await google.colab.output.renderOutput(dataTable, element);\n",
              "          const docLink = document.createElement('div');\n",
              "          docLink.innerHTML = docLinkHtml;\n",
              "          element.appendChild(docLink);\n",
              "        }\n",
              "      </script>\n",
              "    </div>\n",
              "  </div>\n",
              "  "
            ]
          },
          "metadata": {},
          "execution_count": 167
        }
      ]
    },
    {
      "cell_type": "code",
      "source": [
        "sample_dict = {}\n",
        "for u in sample_df.index:\n",
        "  for i in sample_df.columns:\n",
        "    if u not in sample_dict:\n",
        "      sample_dict[u] = {}\n",
        "    if ~np.isnan(sample_df.loc[u, i]):\n",
        "      sample_dict[u][i] = sample_df.loc[u, i]\n",
        "\n",
        "\n",
        "sample_dict"
      ],
      "metadata": {
        "colab": {
          "base_uri": "https://localhost:8080/"
        },
        "id": "JutbEPAcR2Vp",
        "outputId": "2b80d85e-71ea-4f82-ccc9-c838623c4ac4"
      },
      "execution_count": 168,
      "outputs": [
        {
          "output_type": "execute_result",
          "data": {
            "text/plain": [
              "{1: {1: 7.0, 2: 6.0, 3: 7.0, 4: 4, 5: 5, 6: 4.0},\n",
              " 2: {1: 6.0, 2: 7.0, 4: 4, 5: 3, 6: 4.0},\n",
              " 3: {2: 3.0, 3: 3.0, 4: 1, 5: 1},\n",
              " 4: {1: 1.0, 2: 2.0, 3: 2.0, 4: 3, 5: 3, 6: 4.0},\n",
              " 5: {1: 1.0, 3: 1.0, 4: 2, 5: 3, 6: 3.0}}"
            ]
          },
          "metadata": {},
          "execution_count": 168
        }
      ]
    },
    {
      "cell_type": "code",
      "source": [
        "users = set(sample_df.index)\n",
        "items = set(sample_df.columns)\n",
        "model = Model(sample_dict, users, items)\n",
        "\n",
        "model.recommend(3)"
      ],
      "metadata": {
        "colab": {
          "base_uri": "https://localhost:8080/"
        },
        "id": "L_hyyKLVf6rw",
        "outputId": "90e9e496-94dd-4a1d-9902-0f6363b18b7e"
      },
      "execution_count": 169,
      "outputs": [
        {
          "output_type": "execute_result",
          "data": {
            "text/plain": [
              "[1, 6]"
            ]
          },
          "metadata": {},
          "execution_count": 169
        }
      ]
    },
    {
      "cell_type": "markdown",
      "source": [
        "# 추천하기"
      ],
      "metadata": {
        "id": "xMO2tXrBqfM_"
      }
    },
    {
      "cell_type": "code",
      "source": [
        "rating_matrix = {}\n",
        "for i in new_ratings.index:\n",
        "  user = new_ratings.loc[i, 'User-ID']\n",
        "  isbn = new_ratings.loc[i, 'ISBN']\n",
        "  rating = new_ratings.loc[i, 'Book-Rating']\n",
        "  if user not in rating_matrix:\n",
        "    rating_matrix[user] = {}\n",
        "  rating_matrix[user][isbn] = rating"
      ],
      "metadata": {
        "id": "tFhw4F59qqcX"
      },
      "execution_count": 170,
      "outputs": []
    },
    {
      "cell_type": "code",
      "source": [
        "users = new_ratings['User-ID'].unique()\n",
        "items = new_ratings['ISBN'].unique()\n",
        "model = Model(rating_matrix, users, items)"
      ],
      "metadata": {
        "id": "iwsv4A-Zf-Dv"
      },
      "execution_count": 171,
      "outputs": []
    },
    {
      "cell_type": "code",
      "source": [
        "model.recommend(276721)"
      ],
      "metadata": {
        "id": "pH0w-gjbqnD5"
      },
      "execution_count": 173,
      "outputs": []
    },
    {
      "cell_type": "markdown",
      "source": [
        "추천을 할 때 모든 아이템에 대하여 조정된 코사인 유사도를 구해야하기 때문에 아이템이 많아질 수록 시간이 오래걸리게 됩니다.  \n",
        "따라서 미리 조정된 코사인 유사도를 구해놓는다면 추천하는데 시간이 줄어들 것 같습니다."
      ],
      "metadata": {
        "id": "FLp55xZSycY-"
      }
    },
    {
      "cell_type": "code",
      "source": [],
      "metadata": {
        "id": "Kf22jQlpsgCa"
      },
      "execution_count": null,
      "outputs": []
    }
  ]
}